{
  "nbformat": 4,
  "nbformat_minor": 0,
  "metadata": {
    "colab": {
      "name": "Coronavirus_tweet_multiclassification.ipynb",
      "provenance": [],
      "collapsed_sections": [],
      "include_colab_link": true
    },
    "kernelspec": {
      "name": "python3",
      "display_name": "Python 3"
    },
    "language_info": {
      "name": "python"
    },
    "accelerator": "GPU"
  },
  "cells": [
    {
      "cell_type": "markdown",
      "metadata": {
        "id": "view-in-github",
        "colab_type": "text"
      },
      "source": [
        "<a href=\"https://colab.research.google.com/github/AnthonyAngatia/ML-Group-Final-Task/blob/main/Coronavirus_tweet_multiclassification.ipynb\" target=\"_parent\"><img src=\"https://colab.research.google.com/assets/colab-badge.svg\" alt=\"Open In Colab\"/></a>"
      ]
    },
    {
      "cell_type": "markdown",
      "metadata": {
        "id": "NFK4YbaX6XAQ"
      },
      "source": [
        "# Sentiment Analysis on Corona Virus Tweets\n",
        "\n",
        "This task involves classifying tweets tweeted regarding the pandemic. It is a multiclass classification task involving into **3 categories:**\n",
        "\n",
        "*   Positive\n",
        "*   Negative\n",
        "*   Neutral\n",
        "\n",
        "The dataset used is from a kaggler Aman Miglani. Here is the link: https://www.kaggle.com/datatattle/covid-19-nlp-text-classification\n",
        "\n",
        "## Group members\n",
        "\n",
        "* Harry Karani\n",
        "\n",
        "* Stephanie Mboya\n",
        "\n",
        "* Angatia Anthony\n",
        "\n"
      ]
    },
    {
      "cell_type": "code",
      "metadata": {
        "id": "0vNVSnVDt5j4",
        "colab": {
          "base_uri": "https://localhost:8080/"
        },
        "outputId": "57f22254-04c6-47bd-c3be-d6cfc344a6d8"
      },
      "source": [
        "import pandas as pd\n",
        "import numpy as np\n",
        "import unicodedata\n",
        "import nltk\n",
        "nltk.download('stopwords')\n",
        "import seaborn as sns\n",
        "\n",
        "\n",
        "from keras.preprocessing.text import Tokenizer\n",
        "from keras.preprocessing.sequence import pad_sequences\n",
        "from keras.models import *\n",
        "from keras.layers import *\n",
        "from keras.callbacks import *\n",
        "from keras.models import load_model\n",
        "from nltk.corpus import stopwords\n",
        "\n"
      ],
      "execution_count": 1,
      "outputs": [
        {
          "output_type": "stream",
          "text": [
            "[nltk_data] Downloading package stopwords to /root/nltk_data...\n",
            "[nltk_data]   Unzipping corpora/stopwords.zip.\n"
          ],
          "name": "stdout"
        }
      ]
    },
    {
      "cell_type": "code",
      "metadata": {
        "id": "LXFv9_f16Y5a",
        "colab": {
          "base_uri": "https://localhost:8080/"
        },
        "outputId": "653846bb-28f3-4339-cb8a-7f3e93388253"
      },
      "source": [
        "from google.colab import drive\n",
        "\n",
        "drive.mount('/content/drive')"
      ],
      "execution_count": 2,
      "outputs": [
        {
          "output_type": "stream",
          "text": [
            "Mounted at /content/drive\n"
          ],
          "name": "stdout"
        }
      ]
    },
    {
      "cell_type": "code",
      "metadata": {
        "id": "CHXwu57pvFNT",
        "colab": {
          "base_uri": "https://localhost:8080/",
          "height": 266
        },
        "outputId": "c4291ce4-7dd9-4d7c-f469-209e75fab78e"
      },
      "source": [
        "train_file = '/content/drive/Othercomputers/My PC/ICS/Year 4/Semester 1/Machine Learning/Coronavirus tweets/Corona_NLP_train.csv'\n",
        "test_file = '/content/drive/Othercomputers/My PC/ICS/Year 4/Semester 1/Machine Learning/Coronavirus tweets/Corona_NLP_test.csv'\n",
        "train_dataset = pd.read_csv(train_file, encoding='latin1')\n",
        "test_dataset = pd.read_csv(test_file, encoding='latin1')\n",
        "train_dataset.head(7)\n"
      ],
      "execution_count": 3,
      "outputs": [
        {
          "output_type": "execute_result",
          "data": {
            "text/html": [
              "<div>\n",
              "<style scoped>\n",
              "    .dataframe tbody tr th:only-of-type {\n",
              "        vertical-align: middle;\n",
              "    }\n",
              "\n",
              "    .dataframe tbody tr th {\n",
              "        vertical-align: top;\n",
              "    }\n",
              "\n",
              "    .dataframe thead th {\n",
              "        text-align: right;\n",
              "    }\n",
              "</style>\n",
              "<table border=\"1\" class=\"dataframe\">\n",
              "  <thead>\n",
              "    <tr style=\"text-align: right;\">\n",
              "      <th></th>\n",
              "      <th>UserName</th>\n",
              "      <th>ScreenName</th>\n",
              "      <th>Location</th>\n",
              "      <th>TweetAt</th>\n",
              "      <th>OriginalTweet</th>\n",
              "      <th>Sentiment</th>\n",
              "    </tr>\n",
              "  </thead>\n",
              "  <tbody>\n",
              "    <tr>\n",
              "      <th>0</th>\n",
              "      <td>3799</td>\n",
              "      <td>48751</td>\n",
              "      <td>London</td>\n",
              "      <td>16-03-2020</td>\n",
              "      <td>@MeNyrbie @Phil_Gahan @Chrisitv https://t.co/i...</td>\n",
              "      <td>Neutral</td>\n",
              "    </tr>\n",
              "    <tr>\n",
              "      <th>1</th>\n",
              "      <td>3800</td>\n",
              "      <td>48752</td>\n",
              "      <td>UK</td>\n",
              "      <td>16-03-2020</td>\n",
              "      <td>advice Talk to your neighbours family to excha...</td>\n",
              "      <td>Positive</td>\n",
              "    </tr>\n",
              "    <tr>\n",
              "      <th>2</th>\n",
              "      <td>3801</td>\n",
              "      <td>48753</td>\n",
              "      <td>Vagabonds</td>\n",
              "      <td>16-03-2020</td>\n",
              "      <td>Coronavirus Australia: Woolworths to give elde...</td>\n",
              "      <td>Positive</td>\n",
              "    </tr>\n",
              "    <tr>\n",
              "      <th>3</th>\n",
              "      <td>3802</td>\n",
              "      <td>48754</td>\n",
              "      <td>NaN</td>\n",
              "      <td>16-03-2020</td>\n",
              "      <td>My food stock is not the only one which is emp...</td>\n",
              "      <td>Positive</td>\n",
              "    </tr>\n",
              "    <tr>\n",
              "      <th>4</th>\n",
              "      <td>3803</td>\n",
              "      <td>48755</td>\n",
              "      <td>NaN</td>\n",
              "      <td>16-03-2020</td>\n",
              "      <td>Me, ready to go at supermarket during the #COV...</td>\n",
              "      <td>Extremely Negative</td>\n",
              "    </tr>\n",
              "    <tr>\n",
              "      <th>5</th>\n",
              "      <td>3804</td>\n",
              "      <td>48756</td>\n",
              "      <td>ÃT: 36.319708,-82.363649</td>\n",
              "      <td>16-03-2020</td>\n",
              "      <td>As news of the regionÂs first confirmed COVID...</td>\n",
              "      <td>Positive</td>\n",
              "    </tr>\n",
              "    <tr>\n",
              "      <th>6</th>\n",
              "      <td>3805</td>\n",
              "      <td>48757</td>\n",
              "      <td>35.926541,-78.753267</td>\n",
              "      <td>16-03-2020</td>\n",
              "      <td>Cashier at grocery store was sharing his insig...</td>\n",
              "      <td>Positive</td>\n",
              "    </tr>\n",
              "  </tbody>\n",
              "</table>\n",
              "</div>"
            ],
            "text/plain": [
              "   UserName  ...           Sentiment\n",
              "0      3799  ...             Neutral\n",
              "1      3800  ...            Positive\n",
              "2      3801  ...            Positive\n",
              "3      3802  ...            Positive\n",
              "4      3803  ...  Extremely Negative\n",
              "5      3804  ...            Positive\n",
              "6      3805  ...            Positive\n",
              "\n",
              "[7 rows x 6 columns]"
            ]
          },
          "metadata": {},
          "execution_count": 3
        }
      ]
    },
    {
      "cell_type": "code",
      "metadata": {
        "id": "pItXZH_x25q2",
        "colab": {
          "base_uri": "https://localhost:8080/"
        },
        "outputId": "63b34a08-52d1-4b95-c953-034488e85738"
      },
      "source": [
        "print( train_dataset.shape)\n",
        "print(test_dataset.shape)"
      ],
      "execution_count": 4,
      "outputs": [
        {
          "output_type": "stream",
          "text": [
            "(41157, 6)\n",
            "(3798, 6)\n"
          ],
          "name": "stdout"
        }
      ]
    },
    {
      "cell_type": "code",
      "metadata": {
        "id": "P4P6i1lL-cVr",
        "colab": {
          "base_uri": "https://localhost:8080/",
          "height": 419
        },
        "outputId": "86d81b8e-f2ba-4b61-9400-26f6650ff126"
      },
      "source": [
        "train_dataset = train_dataset[['OriginalTweet', 'Sentiment' ]]\n",
        "test_dataset = test_dataset[['OriginalTweet', 'Sentiment' ]]\n",
        "test_dataset"
      ],
      "execution_count": 5,
      "outputs": [
        {
          "output_type": "execute_result",
          "data": {
            "text/html": [
              "<div>\n",
              "<style scoped>\n",
              "    .dataframe tbody tr th:only-of-type {\n",
              "        vertical-align: middle;\n",
              "    }\n",
              "\n",
              "    .dataframe tbody tr th {\n",
              "        vertical-align: top;\n",
              "    }\n",
              "\n",
              "    .dataframe thead th {\n",
              "        text-align: right;\n",
              "    }\n",
              "</style>\n",
              "<table border=\"1\" class=\"dataframe\">\n",
              "  <thead>\n",
              "    <tr style=\"text-align: right;\">\n",
              "      <th></th>\n",
              "      <th>OriginalTweet</th>\n",
              "      <th>Sentiment</th>\n",
              "    </tr>\n",
              "  </thead>\n",
              "  <tbody>\n",
              "    <tr>\n",
              "      <th>0</th>\n",
              "      <td>TRENDING: New Yorkers encounter empty supermar...</td>\n",
              "      <td>Extremely Negative</td>\n",
              "    </tr>\n",
              "    <tr>\n",
              "      <th>1</th>\n",
              "      <td>When I couldn't find hand sanitizer at Fred Me...</td>\n",
              "      <td>Positive</td>\n",
              "    </tr>\n",
              "    <tr>\n",
              "      <th>2</th>\n",
              "      <td>Find out how you can protect yourself and love...</td>\n",
              "      <td>Extremely Positive</td>\n",
              "    </tr>\n",
              "    <tr>\n",
              "      <th>3</th>\n",
              "      <td>#Panic buying hits #NewYork City as anxious sh...</td>\n",
              "      <td>Negative</td>\n",
              "    </tr>\n",
              "    <tr>\n",
              "      <th>4</th>\n",
              "      <td>#toiletpaper #dunnypaper #coronavirus #coronav...</td>\n",
              "      <td>Neutral</td>\n",
              "    </tr>\n",
              "    <tr>\n",
              "      <th>...</th>\n",
              "      <td>...</td>\n",
              "      <td>...</td>\n",
              "    </tr>\n",
              "    <tr>\n",
              "      <th>3793</th>\n",
              "      <td>Meanwhile In A Supermarket in Israel -- People...</td>\n",
              "      <td>Positive</td>\n",
              "    </tr>\n",
              "    <tr>\n",
              "      <th>3794</th>\n",
              "      <td>Did you panic buy a lot of non-perishable item...</td>\n",
              "      <td>Negative</td>\n",
              "    </tr>\n",
              "    <tr>\n",
              "      <th>3795</th>\n",
              "      <td>Asst Prof of Economics @cconces was on @NBCPhi...</td>\n",
              "      <td>Neutral</td>\n",
              "    </tr>\n",
              "    <tr>\n",
              "      <th>3796</th>\n",
              "      <td>Gov need to do somethings instead of biar je r...</td>\n",
              "      <td>Extremely Negative</td>\n",
              "    </tr>\n",
              "    <tr>\n",
              "      <th>3797</th>\n",
              "      <td>I and @ForestandPaper members are committed to...</td>\n",
              "      <td>Extremely Positive</td>\n",
              "    </tr>\n",
              "  </tbody>\n",
              "</table>\n",
              "<p>3798 rows × 2 columns</p>\n",
              "</div>"
            ],
            "text/plain": [
              "                                          OriginalTweet           Sentiment\n",
              "0     TRENDING: New Yorkers encounter empty supermar...  Extremely Negative\n",
              "1     When I couldn't find hand sanitizer at Fred Me...            Positive\n",
              "2     Find out how you can protect yourself and love...  Extremely Positive\n",
              "3     #Panic buying hits #NewYork City as anxious sh...            Negative\n",
              "4     #toiletpaper #dunnypaper #coronavirus #coronav...             Neutral\n",
              "...                                                 ...                 ...\n",
              "3793  Meanwhile In A Supermarket in Israel -- People...            Positive\n",
              "3794  Did you panic buy a lot of non-perishable item...            Negative\n",
              "3795  Asst Prof of Economics @cconces was on @NBCPhi...             Neutral\n",
              "3796  Gov need to do somethings instead of biar je r...  Extremely Negative\n",
              "3797  I and @ForestandPaper members are committed to...  Extremely Positive\n",
              "\n",
              "[3798 rows x 2 columns]"
            ]
          },
          "metadata": {},
          "execution_count": 5
        }
      ]
    },
    {
      "cell_type": "code",
      "metadata": {
        "id": "XrDcsx7L3kwd",
        "colab": {
          "base_uri": "https://localhost:8080/",
          "height": 390
        },
        "outputId": "e5e09c8e-ec09-4008-83ed-08b15421bfd5"
      },
      "source": [
        "# Distribution of the sentiments\n",
        "sns.set_style(\"whitegrid\")\n",
        "sns.set(rc={'figure.figsize':(15,4)})\n",
        "sns.countplot(train_dataset['Sentiment'])\n",
        "sns.countplot(test_dataset['Sentiment'], palette = \"Accent_r\")"
      ],
      "execution_count": 6,
      "outputs": [
        {
          "output_type": "stream",
          "text": [
            "/usr/local/lib/python3.7/dist-packages/seaborn/_decorators.py:43: FutureWarning: Pass the following variable as a keyword arg: x. From version 0.12, the only valid positional argument will be `data`, and passing other arguments without an explicit keyword will result in an error or misinterpretation.\n",
            "  FutureWarning\n",
            "/usr/local/lib/python3.7/dist-packages/seaborn/_decorators.py:43: FutureWarning: Pass the following variable as a keyword arg: x. From version 0.12, the only valid positional argument will be `data`, and passing other arguments without an explicit keyword will result in an error or misinterpretation.\n",
            "  FutureWarning\n"
          ],
          "name": "stderr"
        },
        {
          "output_type": "execute_result",
          "data": {
            "text/plain": [
              "<matplotlib.axes._subplots.AxesSubplot at 0x7fa44eef1510>"
            ]
          },
          "metadata": {},
          "execution_count": 6
        },
        {
          "output_type": "display_data",
          "data": {
            "image/png": "[encoded data removed]",
            "text/plain": [
              "<Figure size 1080x288 with 1 Axes>"
            ]
          },
          "metadata": {}
        }
      ]
    },
    {
      "cell_type": "markdown",
      "metadata": {
        "id": "DMrHuN0K9hKK"
      },
      "source": [
        "Due to the size of the dataset, we opted to reduce the classes into 3 classes so as to improve the accuracy of the model"
      ]
    },
    {
      "cell_type": "code",
      "metadata": {
        "id": "chbmv9YcBsbe",
        "colab": {
          "base_uri": "https://localhost:8080/",
          "height": 390
        },
        "outputId": "c76f90f8-d034-4ecd-e7fc-e9644f64ceda"
      },
      "source": [
        "\n",
        "def category_converter(category):\n",
        "  if category == \"Extremely Negative\":\n",
        "    return \"Negative\"\n",
        "  elif category == \"Extremely Positive\":\n",
        "    return \"Positive\"\n",
        "  return category\n",
        "train_dataset[\"Sentiment\"] = train_dataset[\"Sentiment\"].apply(category_converter)\n",
        "test_dataset[\"Sentiment\"] = test_dataset[\"Sentiment\"].apply(category_converter)\n",
        "sns.set(rc={'figure.figsize':(7,4)})\n",
        "sns.countplot(train_dataset['Sentiment'])\n",
        "sns.countplot(test_dataset['Sentiment'], palette = \"Accent_r\")\n"
      ],
      "execution_count": 7,
      "outputs": [
        {
          "output_type": "stream",
          "text": [
            "/usr/local/lib/python3.7/dist-packages/seaborn/_decorators.py:43: FutureWarning: Pass the following variable as a keyword arg: x. From version 0.12, the only valid positional argument will be `data`, and passing other arguments without an explicit keyword will result in an error or misinterpretation.\n",
            "  FutureWarning\n",
            "/usr/local/lib/python3.7/dist-packages/seaborn/_decorators.py:43: FutureWarning: Pass the following variable as a keyword arg: x. From version 0.12, the only valid positional argument will be `data`, and passing other arguments without an explicit keyword will result in an error or misinterpretation.\n",
            "  FutureWarning\n"
          ],
          "name": "stderr"
        },
        {
          "output_type": "execute_result",
          "data": {
            "text/plain": [
              "<matplotlib.axes._subplots.AxesSubplot at 0x7fa44eb03910>"
            ]
          },
          "metadata": {},
          "execution_count": 7
        },
        {
          "output_type": "display_data",
          "data": {
            "image/png": "[encoded data removed]",
            "text/plain": [
              "<Figure size 504x288 with 1 Axes>"
            ]
          },
          "metadata": {}
        }
      ]
    },
    {
      "cell_type": "markdown",
      "metadata": {
        "id": "0wtdZ4mvBjnq"
      },
      "source": [
        "## Data preprocessing\n"
      ]
    },
    {
      "cell_type": "code",
      "metadata": {
        "id": "783jhfpz_van",
        "colab": {
          "base_uri": "https://localhost:8080/"
        },
        "outputId": "d3578144-67a3-4172-e7b6-a5372fe71727"
      },
      "source": [
        "# Check for null rows\n",
        "train_dataset.isnull().sum()"
      ],
      "execution_count": 8,
      "outputs": [
        {
          "output_type": "execute_result",
          "data": {
            "text/plain": [
              "OriginalTweet    0\n",
              "Sentiment        0\n",
              "dtype: int64"
            ]
          },
          "metadata": {},
          "execution_count": 8
        }
      ]
    },
    {
      "cell_type": "code",
      "metadata": {
        "id": "-m4SzCjdEvpe"
      },
      "source": [
        "def remove_hyperlinks(tweet):\n",
        "  return re.sub(r'http\\S+', '', tweet)\n"
      ],
      "execution_count": 9,
      "outputs": []
    },
    {
      "cell_type": "code",
      "metadata": {
        "id": "r7jW89pOGtnZ"
      },
      "source": [
        "def remove_tags(tweet):\n",
        "  return re.sub(r\"@([a-zA-Z0-9_.-]{1,100})\", \" \", tweet)\n"
      ],
      "execution_count": 10,
      "outputs": []
    },
    {
      "cell_type": "code",
      "metadata": {
        "id": "DiOqBNpjIFpe"
      },
      "source": [
        "def remove_stopwords(tweet):\n",
        "  return ' '.join([word for word in tweet.split() if word not in stopwords.words(\"english\")])\n"
      ],
      "execution_count": 11,
      "outputs": []
    },
    {
      "cell_type": "code",
      "metadata": {
        "id": "oviyr8AdMaAH"
      },
      "source": [
        "def more_cleaning(tweet):\n",
        "  tweet = re.sub(r\"\\d+\", \" \", tweet)# Remove numbers\n",
        "  tweet = unicodedata.normalize(\"NFD\", tweet).encode('ascii', 'ignore').decode(\"utf-8\")# Encode special characters\n",
        "  tweet = re.sub(r'[^\\w\\s]', ' ', tweet)# Remove punctuations\n",
        "  return tweet\n"
      ],
      "execution_count": 12,
      "outputs": []
    },
    {
      "cell_type": "code",
      "metadata": {
        "colab": {
          "base_uri": "https://localhost:8080/",
          "height": 204
        },
        "id": "UtlPpTd7Hn3z",
        "outputId": "ad5f303f-8bdc-4bf6-be9a-b97c91e2afbc"
      },
      "source": [
        "train_dataset[\"OriginalTweet\"] = train_dataset[\"OriginalTweet\"].apply(remove_hyperlinks)\n",
        "train_dataset[\"OriginalTweet\"] = train_dataset[\"OriginalTweet\"].apply(remove_tags)\n",
        "train_dataset[\"OriginalTweet\"] = train_dataset[\"OriginalTweet\"].apply(remove_stopwords)\n",
        "train_dataset[\"OriginalTweet\"] = train_dataset[\"OriginalTweet\"].apply(more_cleaning)\n",
        "train_dataset.sample(5)\n"
      ],
      "execution_count": 13,
      "outputs": [
        {
          "output_type": "execute_result",
          "data": {
            "text/html": [
              "<div>\n",
              "<style scoped>\n",
              "    .dataframe tbody tr th:only-of-type {\n",
              "        vertical-align: middle;\n",
              "    }\n",
              "\n",
              "    .dataframe tbody tr th {\n",
              "        vertical-align: top;\n",
              "    }\n",
              "\n",
              "    .dataframe thead th {\n",
              "        text-align: right;\n",
              "    }\n",
              "</style>\n",
              "<table border=\"1\" class=\"dataframe\">\n",
              "  <thead>\n",
              "    <tr style=\"text-align: right;\">\n",
              "      <th></th>\n",
              "      <th>OriginalTweet</th>\n",
              "      <th>Sentiment</th>\n",
              "    </tr>\n",
              "  </thead>\n",
              "  <tbody>\n",
              "    <tr>\n",
              "      <th>24061</th>\n",
              "      <td>Companies are evaluating their businesses  inc...</td>\n",
              "      <td>Positive</td>\n",
              "    </tr>\n",
              "    <tr>\n",
              "      <th>39024</th>\n",
              "      <td>From hemp to hand sanitizer  Alabama veteranAs...</td>\n",
              "      <td>Positive</td>\n",
              "    </tr>\n",
              "    <tr>\n",
              "      <th>37328</th>\n",
              "      <td>During a time when there has been unpreceden...</td>\n",
              "      <td>Negative</td>\n",
              "    </tr>\n",
              "    <tr>\n",
              "      <th>41053</th>\n",
              "      <td>China amp US Share S P Outcomes China losing w...</td>\n",
              "      <td>Positive</td>\n",
              "    </tr>\n",
              "    <tr>\n",
              "      <th>13590</th>\n",
              "      <td>Me in supermarket Look at that idiot buying a ...</td>\n",
              "      <td>Negative</td>\n",
              "    </tr>\n",
              "  </tbody>\n",
              "</table>\n",
              "</div>"
            ],
            "text/plain": [
              "                                           OriginalTweet Sentiment\n",
              "24061  Companies are evaluating their businesses  inc...  Positive\n",
              "39024  From hemp to hand sanitizer  Alabama veteranAs...  Positive\n",
              "37328    During a time when there has been unpreceden...  Negative\n",
              "41053  China amp US Share S P Outcomes China losing w...  Positive\n",
              "13590  Me in supermarket Look at that idiot buying a ...  Negative"
            ]
          },
          "metadata": {},
          "execution_count": 13
        }
      ]
    },
    {
      "cell_type": "code",
      "metadata": {
        "id": "VCcqnOyutWDt",
        "colab": {
          "base_uri": "https://localhost:8080/",
          "height": 204
        },
        "outputId": "11e360d0-6d49-41de-805a-0c5f781c9a91"
      },
      "source": [
        "test_dataset[\"OriginalTweet\"] = test_dataset[\"OriginalTweet\"].apply(remove_hyperlinks)\n",
        "test_dataset[\"OriginalTweet\"] = test_dataset[\"OriginalTweet\"].apply(remove_tags)\n",
        "test_dataset[\"OriginalTweet\"] = test_dataset[\"OriginalTweet\"].apply(remove_stopwords)\n",
        "test_dataset[\"OriginalTweet\"] = test_dataset[\"OriginalTweet\"].apply(more_cleaning)\n",
        "test_dataset.head(5)"
      ],
      "execution_count": 14,
      "outputs": [
        {
          "output_type": "execute_result",
          "data": {
            "text/html": [
              "<div>\n",
              "<style scoped>\n",
              "    .dataframe tbody tr th:only-of-type {\n",
              "        vertical-align: middle;\n",
              "    }\n",
              "\n",
              "    .dataframe tbody tr th {\n",
              "        vertical-align: top;\n",
              "    }\n",
              "\n",
              "    .dataframe thead th {\n",
              "        text-align: right;\n",
              "    }\n",
              "</style>\n",
              "<table border=\"1\" class=\"dataframe\">\n",
              "  <thead>\n",
              "    <tr style=\"text-align: right;\">\n",
              "      <th></th>\n",
              "      <th>OriginalTweet</th>\n",
              "      <th>Sentiment</th>\n",
              "    </tr>\n",
              "  </thead>\n",
              "  <tbody>\n",
              "    <tr>\n",
              "      <th>0</th>\n",
              "      <td>TRENDING  New Yorkers encounter empty supermar...</td>\n",
              "      <td>Negative</td>\n",
              "    </tr>\n",
              "    <tr>\n",
              "      <th>1</th>\n",
              "      <td>When I couldn t find hand sanitizer at Fred Me...</td>\n",
              "      <td>Positive</td>\n",
              "    </tr>\n",
              "    <tr>\n",
              "      <th>2</th>\n",
              "      <td>Find out how you can protect yourself and love...</td>\n",
              "      <td>Positive</td>\n",
              "    </tr>\n",
              "    <tr>\n",
              "      <th>3</th>\n",
              "      <td>Panic buying hits  NewYork City as anxious sh...</td>\n",
              "      <td>Negative</td>\n",
              "    </tr>\n",
              "    <tr>\n",
              "      <th>4</th>\n",
              "      <td>toiletpaper  dunnypaper  coronavirus  coronav...</td>\n",
              "      <td>Neutral</td>\n",
              "    </tr>\n",
              "  </tbody>\n",
              "</table>\n",
              "</div>"
            ],
            "text/plain": [
              "                                       OriginalTweet Sentiment\n",
              "0  TRENDING  New Yorkers encounter empty supermar...  Negative\n",
              "1  When I couldn t find hand sanitizer at Fred Me...  Positive\n",
              "2  Find out how you can protect yourself and love...  Positive\n",
              "3   Panic buying hits  NewYork City as anxious sh...  Negative\n",
              "4   toiletpaper  dunnypaper  coronavirus  coronav...   Neutral"
            ]
          },
          "metadata": {},
          "execution_count": 14
        }
      ]
    },
    {
      "cell_type": "code",
      "metadata": {
        "id": "jtl_ZTGP_JRI"
      },
      "source": [
        "# One hot encoding the sentiments and converting the OriginalTweet to a numpy array for tokenization\n",
        "X_train, y_train = train_dataset['OriginalTweet'].values, pd.get_dummies(train_dataset['Sentiment'].values).values\n",
        "X_test, y_test = test_dataset['OriginalTweet'].values, pd.get_dummies(test_dataset['Sentiment'].values).values"
      ],
      "execution_count": 15,
      "outputs": []
    },
    {
      "cell_type": "code",
      "metadata": {
        "id": "YKpj5AjbKN3K"
      },
      "source": [
        "tokenizer = Tokenizer()"
      ],
      "execution_count": 16,
      "outputs": []
    },
    {
      "cell_type": "code",
      "metadata": {
        "id": "6Z4QKIgiKXNG"
      },
      "source": [
        "tokenizer.fit_on_texts(list(X_train))"
      ],
      "execution_count": 17,
      "outputs": []
    },
    {
      "cell_type": "code",
      "metadata": {
        "id": "v62Isn23Knub"
      },
      "source": [
        "X_train_seq = tokenizer.texts_to_sequences(X_train)\n",
        "X_test_seq=tokenizer.texts_to_sequences(X_test)"
      ],
      "execution_count": null,
      "outputs": []
    },
    {
      "cell_type": "code",
      "metadata": {
        "id": "tH5iIAcLNEjt",
        "colab": {
          "base_uri": "https://localhost:8080/"
        },
        "outputId": "58af321d-4826-4454-86f3-278162639659"
      },
      "source": [
        "# Find Maximum Word count so as to apply padding to the sentences with fewer words\n",
        "max_word_count = 0\n",
        "word_count = []\n",
        "\n",
        "for encoded_tweet in X_train_seq:\n",
        "    word_count.append(len(encoded_tweet))\n",
        "    if len(encoded_tweet) > max_word_count:\n",
        "        max_word_count = len(encoded_tweet)\n",
        "print(\"Maximum number of word in one sentence: \" + str(max_word_count) + \" words\")\n",
        "SEQ_LEN=max_word_count"
      ],
      "execution_count": 19,
      "outputs": [
        {
          "output_type": "stream",
          "text": [
            "Maximum number of word in one sentence: 65 words\n"
          ],
          "name": "stdout"
        }
      ]
    },
    {
      "cell_type": "code",
      "metadata": {
        "id": "s2qfmDCvMe3x"
      },
      "source": [
        "X_train_seq = pad_sequences(X_train_seq,maxlen=SEQ_LEN)\n",
        "X_test_seq = pad_sequences(X_test_seq, maxlen= SEQ_LEN)"
      ],
      "execution_count": 20,
      "outputs": []
    },
    {
      "cell_type": "code",
      "metadata": {
        "id": "M6vi-hEcNI_C"
      },
      "source": [
        "size_of_vocab = len(tokenizer.word_index)+1\n",
        "size_of_vocab"
      ],
      "execution_count": null,
      "outputs": []
    },
    {
      "cell_type": "markdown",
      "metadata": {
        "id": "yq0Up-iLNfUo"
      },
      "source": [
        "# Training the model"
      ]
    },
    {
      "cell_type": "code",
      "metadata": {
        "id": "Mo3RYCEhNhzL"
      },
      "source": [
        "model = Sequential()\n",
        "model.add(Embedding(size_of_vocab,32,input_length=SEQ_LEN,trainable=True))\n",
        "model.add(LSTM(128,return_sequences=True,dropout=0.2))\n",
        "model.add(GlobalMaxPool1D())\n",
        "model.add(Dense(64,activation='relu'))\n",
        "model.add(Dense(32,activation='relu'))\n",
        "model.add(Dense(16,activation='relu'))\n",
        "model.add(Dense(3,activation='softmax'))\n"
      ],
      "execution_count": 22,
      "outputs": []
    },
    {
      "cell_type": "code",
      "metadata": {
        "id": "CQtf__51QQoZ",
        "colab": {
          "base_uri": "https://localhost:8080/"
        },
        "outputId": "5d0c8aa4-1243-461e-af8c-6fd4c1a95930"
      },
      "source": [
        "model.compile(optimizer='adam',loss='categorical_crossentropy',metrics=['accuracy'])\n",
        "model.summary()\n"
      ],
      "execution_count": 28,
      "outputs": [
        {
          "output_type": "stream",
          "text": [
            "Model: \"sequential\"\n",
            "_________________________________________________________________\n",
            "Layer (type)                 Output Shape              Param #   \n",
            "=================================================================\n",
            "embedding (Embedding)        (None, 65, 32)            1523904   \n",
            "_________________________________________________________________\n",
            "lstm (LSTM)                  (None, 65, 128)           82432     \n",
            "_________________________________________________________________\n",
            "global_max_pooling1d (Global (None, 128)               0         \n",
            "_________________________________________________________________\n",
            "dense (Dense)                (None, 64)                8256      \n",
            "_________________________________________________________________\n",
            "dense_1 (Dense)              (None, 32)                2080      \n",
            "_________________________________________________________________\n",
            "dense_2 (Dense)              (None, 16)                528       \n",
            "_________________________________________________________________\n",
            "dense_3 (Dense)              (None, 3)                 51        \n",
            "=================================================================\n",
            "Total params: 1,617,251\n",
            "Trainable params: 1,617,251\n",
            "Non-trainable params: 0\n",
            "_________________________________________________________________\n"
          ],
          "name": "stdout"
        }
      ]
    },
    {
      "cell_type": "code",
      "metadata": {
        "id": "-NcpHbXbTYrZ",
        "colab": {
          "base_uri": "https://localhost:8080/"
        },
        "outputId": "1dc72146-0858-4b46-999c-a8e2605c95e4"
      },
      "source": [
        "es = EarlyStopping(patience=5, monitor='val_accuracy', restore_best_weights=True)\n",
        "history = model.fit(X_train_seq, y_train, validation_data=(X_test_seq, y_test),epochs=10,\n",
        "                    batch_size=16, verbose=1,callbacks=[es])"
      ],
      "execution_count": 29,
      "outputs": [
        {
          "output_type": "stream",
          "text": [
            "Epoch 1/10\n",
            "2573/2573 [==============================] - 25s 7ms/step - loss: 0.6565 - accuracy: 0.7144 - val_loss: 0.4686 - val_accuracy: 0.8362\n",
            "Epoch 2/10\n",
            "2573/2573 [==============================] - 17s 7ms/step - loss: 0.3363 - accuracy: 0.8856 - val_loss: 0.3723 - val_accuracy: 0.8707\n",
            "Epoch 3/10\n",
            "2573/2573 [==============================] - 17s 7ms/step - loss: 0.2144 - accuracy: 0.9294 - val_loss: 0.3694 - val_accuracy: 0.8799\n",
            "Epoch 4/10\n",
            "2573/2573 [==============================] - 17s 7ms/step - loss: 0.1496 - accuracy: 0.9497 - val_loss: 0.4301 - val_accuracy: 0.8623\n",
            "Epoch 5/10\n",
            "2573/2573 [==============================] - 17s 7ms/step - loss: 0.1158 - accuracy: 0.9591 - val_loss: 0.4708 - val_accuracy: 0.8544\n",
            "Epoch 6/10\n",
            "2573/2573 [==============================] - 17s 7ms/step - loss: 0.0920 - accuracy: 0.9683 - val_loss: 0.5003 - val_accuracy: 0.8457\n",
            "Epoch 7/10\n",
            "2573/2573 [==============================] - 17s 7ms/step - loss: 0.0754 - accuracy: 0.9741 - val_loss: 0.6065 - val_accuracy: 0.8373\n",
            "Epoch 8/10\n",
            "2573/2573 [==============================] - 17s 7ms/step - loss: 0.0628 - accuracy: 0.9778 - val_loss: 0.6772 - val_accuracy: 0.8399\n"
          ],
          "name": "stdout"
        }
      ]
    },
    {
      "cell_type": "markdown",
      "metadata": {
        "id": "tUD4hOLoY0Es"
      },
      "source": [
        "# Model Evaluation\n",
        "\n",
        "We used accuracy as our evaluation model because the class distribution is not greatly imbalanced. \n",
        "\n",
        "To obtain a better accuracy, the following actions were taken:\n",
        "\n",
        "1.) Reduced the classification from a 5 class problem to a 3 class problem because the dataset is not large enough.\n",
        "\n",
        "2.) Increased the number of layers in the model.\n",
        "\n",
        "3.) Did more data cleaning by removing stopwords, punctuations etc."
      ]
    },
    {
      "cell_type": "code",
      "metadata": {
        "colab": {
          "base_uri": "https://localhost:8080/"
        },
        "id": "xfBugWBVYpJW",
        "outputId": "2b6b9507-0bfd-4acc-e459-d6b3d4fed650"
      },
      "source": [
        "_,val_acc=model.evaluate(X_test_seq,y_test,batch_size=16)\n",
        "print(val_acc)"
      ],
      "execution_count": null,
      "outputs": [
        {
          "output_type": "stream",
          "text": [
            "238/238 [==============================] - 2s 7ms/step - loss: 0.4508 - accuracy: 0.8407\n",
            "0.8407056331634521\n"
          ],
          "name": "stdout"
        }
      ]
    },
    {
      "cell_type": "code",
      "metadata": {
        "id": "iRj79_ZE3vg6",
        "colab": {
          "base_uri": "https://localhost:8080/"
        },
        "outputId": "723c3b40-f86f-462f-b6e1-573434364617"
      },
      "source": [
        "sample_comment = ['Now we are all gonna die in this pandemic']\n",
        "sample_token = tokenizer.texts_to_sequences(sample_comment)\n",
        "sample_token_pad=pad_sequences(sample_token,maxlen=max_word_count)\n",
        "predicted = model.predict(sample_token_pad)\n",
        "predicted\n",
        "# Negative Neutral Positive"
      ],
      "execution_count": null,
      "outputs": [
        {
          "output_type": "execute_result",
          "data": {
            "text/plain": [
              "array([[0.95390975, 0.01743044, 0.02865983]], dtype=float32)"
            ]
          },
          "metadata": {},
          "execution_count": 40
        }
      ]
    }
  ]
}